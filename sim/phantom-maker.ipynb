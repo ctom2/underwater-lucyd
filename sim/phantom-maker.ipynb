{
  "cells": [
    {
      "cell_type": "code",
      "execution_count": 1,
      "metadata": {
        "id": "nSi5uEU6sYrq"
      },
      "outputs": [
        {
          "name": "stdout",
          "output_type": "stream",
          "text": [
            "Defaulting to user installation because normal site-packages is not writeable\n",
            "Requirement already satisfied: fft-conv-pytorch in /home/plankton/.local/lib/python3.10/site-packages (1.1.3)\n",
            "Requirement already satisfied: imagecorruptions in /home/plankton/.local/lib/python3.10/site-packages (1.1.2)\n",
            "Requirement already satisfied: psfmodels in /home/plankton/.local/lib/python3.10/site-packages (0.3.3)\n",
            "Requirement already satisfied: numpy in /home/plankton/.local/lib/python3.10/site-packages (from fft-conv-pytorch) (1.23.4)\n",
            "Requirement already satisfied: torch>=1.8 in /home/plankton/.local/lib/python3.10/site-packages (from fft-conv-pytorch) (1.13.0)\n",
            "Requirement already satisfied: Pillow>=5.4.1 in /usr/lib/python3/dist-packages (from imagecorruptions) (9.0.1)\n",
            "Requirement already satisfied: opencv-python>=3.4.5 in /home/plankton/.local/lib/python3.10/site-packages (from imagecorruptions) (4.7.0.72)\n",
            "Requirement already satisfied: scikit-image>=0.15 in /home/plankton/.local/lib/python3.10/site-packages (from imagecorruptions) (0.19.3)\n",
            "Requirement already satisfied: scipy>=1.2.1 in /home/plankton/.local/lib/python3.10/site-packages (from imagecorruptions) (1.9.3)\n",
            "Requirement already satisfied: typing-extensions in /home/plankton/.local/lib/python3.10/site-packages (from psfmodels) (4.4.0)\n",
            "Requirement already satisfied: networkx>=2.2 in /home/plankton/.local/lib/python3.10/site-packages (from scikit-image>=0.15->imagecorruptions) (2.8.8)\n",
            "Requirement already satisfied: imageio>=2.4.1 in /home/plankton/.local/lib/python3.10/site-packages (from scikit-image>=0.15->imagecorruptions) (2.22.4)\n",
            "Requirement already satisfied: tifffile>=2019.7.26 in /home/plankton/.local/lib/python3.10/site-packages (from scikit-image>=0.15->imagecorruptions) (2022.10.10)\n",
            "Requirement already satisfied: PyWavelets>=1.1.1 in /home/plankton/.local/lib/python3.10/site-packages (from scikit-image>=0.15->imagecorruptions) (1.4.1)\n",
            "Requirement already satisfied: packaging>=20.0 in /home/plankton/.local/lib/python3.10/site-packages (from scikit-image>=0.15->imagecorruptions) (21.3)\n",
            "Requirement already satisfied: nvidia-cuda-runtime-cu11==11.7.99 in /home/plankton/.local/lib/python3.10/site-packages (from torch>=1.8->fft-conv-pytorch) (11.7.99)\n",
            "Requirement already satisfied: nvidia-cudnn-cu11==8.5.0.96 in /home/plankton/.local/lib/python3.10/site-packages (from torch>=1.8->fft-conv-pytorch) (8.5.0.96)\n",
            "Requirement already satisfied: nvidia-cublas-cu11==11.10.3.66 in /home/plankton/.local/lib/python3.10/site-packages (from torch>=1.8->fft-conv-pytorch) (11.10.3.66)\n",
            "Requirement already satisfied: nvidia-cuda-nvrtc-cu11==11.7.99 in /home/plankton/.local/lib/python3.10/site-packages (from torch>=1.8->fft-conv-pytorch) (11.7.99)\n",
            "Requirement already satisfied: setuptools in /usr/lib/python3/dist-packages (from nvidia-cublas-cu11==11.10.3.66->torch>=1.8->fft-conv-pytorch) (59.6.0)\n",
            "Requirement already satisfied: wheel in /usr/lib/python3/dist-packages (from nvidia-cublas-cu11==11.10.3.66->torch>=1.8->fft-conv-pytorch) (0.37.1)\n",
            "Requirement already satisfied: pyparsing!=3.0.5,>=2.0.2 in /usr/lib/python3/dist-packages (from packaging>=20.0->scikit-image>=0.15->imagecorruptions) (2.4.7)\n",
            "\n",
            "\u001b[1m[\u001b[0m\u001b[34;49mnotice\u001b[0m\u001b[1;39;49m]\u001b[0m\u001b[39;49m A new release of pip is available: \u001b[0m\u001b[31;49m23.1.2\u001b[0m\u001b[39;49m -> \u001b[0m\u001b[32;49m23.2.1\u001b[0m\n",
            "\u001b[1m[\u001b[0m\u001b[34;49mnotice\u001b[0m\u001b[1;39;49m]\u001b[0m\u001b[39;49m To update, run: \u001b[0m\u001b[32;49mpip install --upgrade pip\u001b[0m\n"
          ]
        }
      ],
      "source": [
        "#%%capture\n",
        "%pip install fft-conv-pytorch imagecorruptions psfmodels"
      ]
    },
    {
      "cell_type": "code",
      "execution_count": 2,
      "metadata": {
        "id": "fAYKU2u6ADF_"
      },
      "outputs": [
        {
          "name": "stdout",
          "output_type": "stream",
          "text": [
            "mkdir: cannot create directory ‘data’: File exists\n",
            "mkdir: cannot create directory ‘data/blur’: File exists\n",
            "mkdir: cannot create directory ‘data/gt’: File exists\n"
          ]
        }
      ],
      "source": [
        "!mkdir data data/blur data/gt"
      ]
    },
    {
      "cell_type": "code",
      "execution_count": 79,
      "metadata": {
        "colab": {
          "base_uri": "https://localhost:8080/",
          "height": 290
        },
        "id": "UrwcY_qrry_Z",
        "outputId": "22bbc682-1505-4f7e-a21e-a559c044665a"
      },
      "outputs": [
        {
          "data": {
            "image/png": "[encoded data removed]",
            "text/plain": [
              "<Figure size 640x480 with 2 Axes>"
            ]
          },
          "metadata": {},
          "output_type": "display_data"
        }
      ],
      "source": [
        "import torch\n",
        "import torch.nn.functional as F\n",
        "import numpy as np\n",
        "\n",
        "import psfmodels as psfm\n",
        "import matplotlib.pyplot as plt\n",
        "from matplotlib.colors import PowerNorm\n",
        "\n",
        "# generate centered psf with a point source at `pz` microns from coverslip\n",
        "nx, ny, nz = 101, 101, 101\n",
        "psf = psfm.make_psf(nx, ny, dxy=0.2, dz=0., pz=0.) # dxy=0.2, dz=0.5, pz=0.\n",
        "fig, (ax1, ax2) = plt.subplots(1, 2)\n",
        "ax1.imshow(psf[nz//2], norm=PowerNorm(gamma=0.4))\n",
        "ax2.imshow(psf[:, nx//2], norm=PowerNorm(gamma=0.4))\n",
        "plt.show()\n",
        "\n",
        "k_ = psf/np.sum(psf)\n",
        "k_l = psf.shape[0]\n",
        "\n",
        "k_torch = torch.from_numpy(k_.copy()).double()\n",
        "k_torch = k_torch.unsqueeze(0).unsqueeze(0)"
      ]
    },
    {
      "cell_type": "code",
      "execution_count": 54,
      "metadata": {
        "id": "BTbTKwN5lN5j"
      },
      "outputs": [
        {
          "name": "stdout",
          "output_type": "stream",
          "text": [
            "0\n"
          ]
        }
      ],
      "source": [
        "import numpy as np\n",
        "import matplotlib.pyplot as plt\n",
        "import os\n",
        "import cv2 as cv\n",
        "\n",
        "def create_sphere(arr_size, center, r):\n",
        "    coords = np.ogrid[:arr_size[0], :arr_size[1], :arr_size[2]]\n",
        "    distance = np.sqrt((coords[0] - center[0])**2 + (coords[1]-center[1])**2 + (coords[2]-center[2])**2) \n",
        "    return 1*(distance <= r)\n",
        "\n",
        "def create_hollow_sphere(arr_size, center, r):\n",
        "    assert r >= 3\n",
        "\n",
        "    t = np.random.randint(0, r//2 + 1)\n",
        "\n",
        "    a = create_sphere(arr_size, center, r)\n",
        "    b = create_sphere(arr_size, center, r - t)\n",
        "    return a - b\n",
        "\n",
        "# ---------------------------------------------------------------\n",
        "\n",
        "def place_sphere(canvas, small=False):\n",
        "    c_dim_z = canvas.shape[0]\n",
        "    c_dim_xy = canvas.shape[1]\n",
        "\n",
        "    if small:\n",
        "        r = np.random.randint(3,5)\n",
        "    else:\n",
        "        r = np.clip(np.random.randint(10,50), 0, c_dim_z//2-1)\n",
        "\n",
        "    x_c = np.random.randint(r,c_dim_xy-r)\n",
        "    y_c = np.random.randint(r,c_dim_xy-r)\n",
        "    z_c = np.random.randint(r,c_dim_z-r)\n",
        "\n",
        "    sphere_center = (z_c,y_c,x_c)\n",
        "\n",
        "    h = np.random.randint(0,2)\n",
        "    if h == 0:\n",
        "        obj = create_sphere(canvas.shape, sphere_center, r)\n",
        "    else:\n",
        "        obj = create_hollow_sphere(canvas.shape, sphere_center, r)\n",
        "\n",
        "    canvas[np.where(obj)] = np.clip(np.random.normal(loc=0.8, scale=0.1, size=None), 0, 1)\n",
        "    return canvas\n",
        "\n",
        "\n",
        "# long block along z-axis\n",
        "def place_z_block(canvas, small=False):\n",
        "    c_dim_z = canvas.shape[0]\n",
        "    c_dim_xy = canvas.shape[1]\n",
        "\n",
        "    if small:\n",
        "        x_len = np.random.randint(1,5)\n",
        "        y_len = np.random.randint(1,5)\n",
        "        z_len = np.random.randint(1,np.min([10, c_dim_z]))\n",
        "    else:\n",
        "        x_len = np.random.randint(1,30)\n",
        "        y_len = np.random.randint(1,30)\n",
        "        z_len = np.clip(np.random.randint(1,100), 0, c_dim_z-1)\n",
        "\n",
        "    x_start = np.random.randint(0,c_dim_xy-x_len)\n",
        "    y_start = np.random.randint(0,c_dim_xy-y_len)\n",
        "    z_start = np.random.randint(0,c_dim_z-z_len)\n",
        "\n",
        "    obj = np.zeros((c_dim_z, c_dim_xy, c_dim_xy))\n",
        "\n",
        "    obj[z_start:z_start+z_len, y_start:y_start+y_len, x_start:x_start+x_len] = np.ones((z_len, y_len, x_len))\n",
        "\n",
        "    canvas[np.where(obj)] = 1#np.clip(np.random.normal(loc=0.8, scale=0.1, size=None), 0, 1)\n",
        "    return canvas\n",
        "\n",
        "# long block along y-axis\n",
        "def place_y_block(canvas, small=False):\n",
        "    c_dim_z = canvas.shape[0]\n",
        "    c_dim_xy = canvas.shape[1]\n",
        "\n",
        "    if small:\n",
        "        x_len = np.random.randint(1,5)\n",
        "        y_len = np.random.randint(1,10)\n",
        "        z_len = np.random.randint(1,5)\n",
        "    else:\n",
        "        x_len = np.random.randint(1,30)\n",
        "        y_len = np.random.randint(1,100)\n",
        "        z_len = np.random.randint(1,30)\n",
        "\n",
        "    x_start = np.random.randint(0,c_dim_xy-x_len)\n",
        "    y_start = np.random.randint(0,c_dim_xy-y_len)\n",
        "    z_start = np.random.randint(0,c_dim_z-z_len)\n",
        "\n",
        "    obj = np.zeros((c_dim_z, c_dim_xy, c_dim_xy))\n",
        "\n",
        "    obj[z_start:z_start+z_len, y_start:y_start+y_len, x_start:x_start+x_len] = np.ones((z_len, y_len, x_len))\n",
        "\n",
        "    canvas[np.where(obj)] = 1#np.clip(np.random.normal(loc=0.8, scale=0.1, size=None), 0, 1)\n",
        "    return canvas\n",
        "\n",
        "# long block along x-axis\n",
        "def place_x_block(canvas, small=False):\n",
        "    c_dim_z = canvas.shape[0]\n",
        "    c_dim_xy = canvas.shape[1]\n",
        "\n",
        "    if small:\n",
        "        x_len = np.random.randint(1,10)\n",
        "        y_len = np.random.randint(1,5)\n",
        "        z_len = np.random.randint(1,5)\n",
        "    else:\n",
        "        x_len = np.random.randint(1,100)\n",
        "        y_len = np.random.randint(1,30)\n",
        "        z_len = np.random.randint(1,30)\n",
        "\n",
        "    x_start = np.random.randint(0,c_dim_xy-x_len)\n",
        "    y_start = np.random.randint(0,c_dim_xy-y_len)\n",
        "    z_start = np.random.randint(0,c_dim_z-z_len)\n",
        "\n",
        "    obj = np.zeros((c_dim_z, c_dim_xy, c_dim_xy))\n",
        "\n",
        "    obj[z_start:z_start+z_len, y_start:y_start+y_len, x_start:x_start+x_len] = np.ones((z_len, y_len, x_len))\n",
        "\n",
        "    canvas[np.where(obj)] = 1#np.clip(np.random.normal(loc=0.8, scale=0.1, size=None), 0, 1)\n",
        "    return canvas\n",
        "\n",
        "#place real images of plankton\n",
        "def load_plankton_images(folder_path, image_size):\n",
        "    plankton_images = []\n",
        "    \n",
        "    for filename in os.listdir(folder_path):\n",
        "        if filename.endswith(\".jpg\") or filename.endswith(\".png\"):\n",
        "            image_path = os.path.join(folder_path, filename)\n",
        "            image = cv.imread(image_path)\n",
        "            image = cv.resize(image, image_size)  # Resize the image to the desired size\n",
        "            plankton_images.append(image)\n",
        "    \n",
        "    return plankton_images\n",
        "\n",
        "def place_plankton_on_canvas(canvas, plankton_images, num_plankton):\n",
        "    c_dim_z, c_dim_xy = canvas.shape[0], canvas.shape[1]\n",
        "\n",
        "    for _ in range(num_plankton):\n",
        "        plankton_index = np.random.randint(0, len(plankton_images))\n",
        "        plankton_image = plankton_images[plankton_index]/255# normalize image\n",
        "        plankton_image = 1 - plankton_image.transpose(2, 0, 1)# invert and transpose the image so it fits the canvas structure\n",
        "\n",
        "        _, plankton_h, plankton_w = plankton_image.shape\n",
        "        plankton_d = 7 # define the respected z-thickness \n",
        "        plankton_image = np.concatenate((plankton_image, np.tile(plankton_image, (20, 1, 1))), axis=0)[:plankton_d] #create the z-dimension of the object\n",
        "        x_start = np.random.randint(0, c_dim_xy - plankton_w)\n",
        "        y_start = np.random.randint(0, c_dim_xy - plankton_h)\n",
        "        z_start = np.random.randint(0, max(1, c_dim_z - plankton_d))  # Adjust z as needed\n",
        "        print(z_start)\n",
        "\n",
        "        obj = np.zeros((c_dim_z, c_dim_xy, c_dim_xy))\n",
        "        canvas[z_start:z_start + plankton_d, y_start:y_start + plankton_h, x_start:x_start + plankton_w] = plankton_image\n",
        "\n",
        "        #canvas[np.where(obj > 0)] = 1\n",
        "\n",
        "    return canvas\n",
        "\n",
        "# ---------------------------------------------------------------\n",
        "c_dim_xy = 512\n",
        "c_dim_z = 11 # 32\n",
        "# ---------------------------------------------------------------\n",
        "canvas = np.zeros((c_dim_z,c_dim_xy,c_dim_xy)) #+ 0.1\n",
        "\n",
        "image_size = (64, 64)  # Desired size for plankton images\n",
        "num_plankton = 1  # Number of plankton to place\n",
        "\n",
        "# Load plankton images from a folder\n",
        "folder_path = \"/home/plankton/PISCO_Software/EDOF_Sim/\"\n",
        "plankton_images = load_plankton_images(folder_path, image_size)\n",
        "\n",
        "# for _ in range(300): # 300\n",
        "#     canvas = place_sphere(canvas)\n",
        "\n",
        "# for _ in range(40): # 40\n",
        "#     canvas = place_x_block(canvas)\n",
        "#     canvas = place_y_block(canvas)\n",
        "#     canvas = place_z_block(canvas)\n",
        "\n",
        "canvas = place_plankton_on_canvas(canvas,plankton_images,num_plankton=1)\n",
        "for _ in range(100): # 200\n",
        "    canvas = place_sphere(canvas, small=False)\n",
        "    canvas = place_x_block(canvas, small=True)\n",
        "    canvas = place_y_block(canvas, small=True)\n",
        "    canvas = place_z_block(canvas, small=True)\n"
      ]
    },
    {
      "cell_type": "code",
      "execution_count": 55,
      "metadata": {},
      "outputs": [
        {
          "data": {
            "text/plain": [
              "50"
            ]
          },
          "execution_count": 55,
          "metadata": {},
          "output_type": "execute_result"
        }
      ],
      "source": [
        "k_l//2"
      ]
    },
    {
      "cell_type": "code",
      "execution_count": 77,
      "metadata": {
        "id": "ifnWVOk8sOoo"
      },
      "outputs": [],
      "source": [
        "from fft_conv_pytorch import fft_conv\n",
        "import imgaug.augmenters as iaa\n",
        "\n",
        "\n",
        "x_torch = torch.from_numpy(canvas).double()\n",
        "x_torch = F.pad(\n",
        "    x_torch, \n",
        "    (k_l//2,k_l//2,k_l//2,k_l//2,k_l//2,k_l//2), \n",
        "    mode='constant', \n",
        "    value=torch.mean(x_torch)\n",
        ")\n",
        "\n",
        "x_torch_1 = x_torch.unsqueeze(0).unsqueeze(0)\n",
        "\n",
        "y_torch_1 = fft_conv(x_torch_1, k_torch)\n",
        "\n",
        "np_blur = y_torch_1.detach().cpu().numpy()\n",
        "\n",
        "yy = 1 - np.mean(np_blur[0,0],0)\n",
        "np_blur = 1 - np.max(np_blur[0,0],0)\n",
        "\n",
        "#rates = torch.rand((yy.shape))\n",
        "#y_torch_2 = yy + torch.poisson(rates).numpy() * 0.001\n",
        "\n",
        "#np_blur = (y_torch_2 + torch.randn(y_torch_2.shape).detach().cpu().numpy()*0.0001)\n",
        "\n",
        "np_blur = (np_blur*255.).astype(np.uint8)\n",
        "jpeg = iaa.JpegCompression(compression=10)\n",
        "np_blur = jpeg(images=np_blur)"
      ]
    },
    {
      "cell_type": "code",
      "execution_count": 78,
      "metadata": {
        "colab": {
          "base_uri": "https://localhost:8080/",
          "height": 418
        },
        "id": "mbrhsMmhQbtY",
        "outputId": "73056793-902d-4477-b795-5318db27557e"
      },
      "outputs": [
        {
          "data": {
            "image/png": "[encoded data removed]",
            "text/plain": [
              "<Figure size 1000x1000 with 2 Axes>"
            ]
          },
          "metadata": {},
          "output_type": "display_data"
        }
      ],
      "source": [
        "plt.figure(figsize=(10,10))\n",
        "plt.subplot(1,2,1)\n",
        "plt.imshow(1-np.mean(canvas,0), cmap='gray', vmin=0, vmax=1)\n",
        "plt.subplot(1,2,2)\n",
        "plt.imshow(np_blur, cmap='gray', vmin=0, vmax=255)\n",
        "plt.show()"
      ]
    },
    {
      "cell_type": "code",
      "execution_count": 74,
      "metadata": {
        "id": "ahqY9wq5G_Gl"
      },
      "outputs": [],
      "source": [
        "from PIL import Image\n",
        "\n",
        "INDEX=16\n",
        "\n",
        "Image.fromarray(np_blur).convert('L').save('data/blur/'+str(INDEX)+'.png')\n",
        "\n",
        "tmp = (1 - np.mean(canvas,0))\n",
        "# tmp = (tmp - np.min(tmp))/(np.max(tmp) - np.min(tmp))\n",
        "Image.fromarray(tmp*255.).convert('L').save('data/gt/'+str(INDEX)+'.png')"
      ]
    },
    {
      "cell_type": "code",
      "execution_count": null,
      "metadata": {
        "id": "dymFW-aOAAUD"
      },
      "outputs": [],
      "source": [
        "!tar czf data.tar.gz data"
      ]
    },
    {
      "cell_type": "code",
      "execution_count": 4,
      "metadata": {
        "id": "ydAJXI9PRylz"
      },
      "outputs": [
        {
          "data": {
            "text/plain": [
              "True"
            ]
          },
          "execution_count": 4,
          "metadata": {},
          "output_type": "execute_result"
        }
      ],
      "source": [
        "import numpy as np\n",
        "import cv2 as cv\n",
        "\n",
        "\n",
        "def directional_dilation(img, kernel, iterations=1):\n",
        "    for _ in range(iterations):\n",
        "        res = np.zeros(img.shape, dtype=np.uint8)\n",
        "        for y in range(img.shape[0]):\n",
        "            for x in range(img.shape[1]):\n",
        "                y_min = y - kernel//2\n",
        "                y_min = y_min if y_min > 0 else 0\n",
        "                y_max = y + kernel // 2 + 1\n",
        "                y_max = y_max if y_max < img.shape[0] else img.shape[0]\n",
        "                \n",
        "                x_min = x - kernel//2\n",
        "                x_min = x_min if x_min > 0 else 0\n",
        "                x_max = x + kernel // 2 + 1\n",
        "                x_max = x_max if x_max < img.shape[1] else img.shape[1]\n",
        "                    \n",
        "                res[y,x] = np.min(img[y_min:y_max, x_min:x_max][(y_max - y_min)//2:, (x_max - x_min)//2:])\n",
        "        img = res.copy()\n",
        "    return res\n",
        "\n",
        "img = cv.imread(\"/home/plankton/PISCO_Software/EDOF_Sim/test.jpg\", cv.IMREAD_GRAYSCALE)\n",
        "    # res = directional_dilation(img, 5)\n",
        "\n",
        "cv.imwrite(\"img.png\", img)\n",
        "cv.imwrite(\"res33.png\", directional_dilation(img, 33))\n",
        "    # cv.imshow(\"res33\", directional_dilation(img, 31))\n",
        "    # cv.imshow(\"res5\", directional_dilation(img, 11))\n",
        "    # cv.imshow(\"res21\", directional_dilation(img, 21))\n",
        "    # cv.imshow(\"diff\", cv.absdiff(img, directional_dilation(img, 21)))\n",
        "    #cv.waitKey()"
      ]
    }
  ],
  "metadata": {
    "colab": {
      "provenance": []
    },
    "gpuClass": "standard",
    "kernelspec": {
      "display_name": "Python 3.10.6 64-bit",
      "language": "python",
      "name": "python3"
    },
    "language_info": {
      "codemirror_mode": {
        "name": "ipython",
        "version": 3
      },
      "file_extension": ".py",
      "mimetype": "text/x-python",
      "name": "python",
      "nbconvert_exporter": "python",
      "pygments_lexer": "ipython3",
      "version": "3.10.12"
    },
    "vscode": {
      "interpreter": {
        "hash": "97cc609b13305c559618ec78a438abc56230b9381f827f22d070313b9a1f3777"
      }
    }
  },
  "nbformat": 4,
  "nbformat_minor": 0
}
